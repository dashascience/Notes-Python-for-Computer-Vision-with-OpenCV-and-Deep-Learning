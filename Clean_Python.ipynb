{
 "cells": [
  {
   "cell_type": "markdown",
   "metadata": {},
   "source": [
    "### Raising Exceptions"
   ]
  },
  {
   "cell_type": "markdown",
   "metadata": {},
   "source": [
    "#### Finaly:  Whether or not you have an exception, the code in finally will always run."
   ]
  },
  {
   "cell_type": "code",
   "execution_count": null,
   "metadata": {},
   "outputs": [],
   "source": [
    "def write_file(file_name):\n",
    "    myfile = open(file_name, \"w\")\n",
    "    try:\n",
    "        myfile.write(\"Python is awesome\")\n",
    "    finally:\n",
    "        myfile.close()   "
   ]
  },
  {
   "cell_type": "markdown",
   "metadata": {},
   "source": [
    "#### Creation own exception class"
   ]
  },
  {
   "cell_type": "code",
   "execution_count": null,
   "metadata": {},
   "outputs": [],
   "source": [
    "class UserNotFoundError(Exception):\n",
    "    def __init__(self, message=None, errors=None):\n",
    "        super().__init__(message)\n",
    "        self.errors = errors\n",
    "        \n",
    "def get_user_info(user_obj):\n",
    "    user = get_user_from_db(user_obj)\n",
    "    if not user:\n",
    "        raise UserNotFoundException(f\"No user found of this id: {user_obj.id}\")\n",
    "get_user_info(user_obj)"
   ]
  },
  {
   "cell_type": "markdown",
   "metadata": {},
   "source": [
    "### Data Sctructures"
   ]
  },
  {
   "cell_type": "markdown",
   "metadata": {},
   "source": [
    "#### NamedTuple:"
   ]
  },
  {
   "cell_type": "code",
   "execution_count": 8,
   "metadata": {},
   "outputs": [
    {
     "data": {
      "text/plain": [
       "3"
      ]
     },
     "execution_count": 8,
     "metadata": {},
     "output_type": "execute_result"
    }
   ],
   "source": [
    "from collections import namedtuple\n",
    "Point = namedtuple(\"Point\", [\"x\", \"y\", \"z\"])\n",
    "point = Point(x=3, y=4, z=5)\n",
    "point.x"
   ]
  },
  {
   "cell_type": "markdown",
   "metadata": {},
   "source": [
    "#### Zip: Combining lists"
   ]
  },
  {
   "cell_type": "code",
   "execution_count": 10,
   "metadata": {},
   "outputs": [],
   "source": [
    "def get_user_salary_info():\n",
    "    users, users_salary = get_users_name_from_db(), get_users_salary_from_db()\n",
    "    users_salary = []\n",
    "    for usr, slr in zip(users, users_salary):\n",
    "        users_salary.append(usr, slr)\n",
    "    return users_salary"
   ]
  },
  {
   "cell_type": "markdown",
   "metadata": {},
   "source": [
    "#### Deque: creating a queue and stack"
   ]
  },
  {
   "cell_type": "code",
   "execution_count": 21,
   "metadata": {},
   "outputs": [],
   "source": [
    "from collections import deque\n",
    "deq = deque(\"abcdefg\")\n",
    "deq.append(\"h\") #New entry to right side\n",
    "deq.appendleft(\"I\") #new entry to the left side\n",
    "deq.pop() #remove right most element\n",
    "deq.popleft() #remove left most element\n",
    "deq.clear() #clear all elements"
   ]
  },
  {
   "cell_type": "markdown",
   "metadata": {},
   "source": [
    "#### Defaultdict: works like dict, doesn’t raise a KeyError like dict and provides the default value for a nonexistent key"
   ]
  },
  {
   "cell_type": "code",
   "execution_count": 35,
   "metadata": {},
   "outputs": [
    {
     "data": {
      "text/plain": [
       "0"
      ]
     },
     "execution_count": 35,
     "metadata": {},
     "output_type": "execute_result"
    }
   ],
   "source": [
    "from collections import defaultdict\n",
    "colors = defaultdict(int, {\"1\":2})\n",
    "colors['3']"
   ]
  },
  {
   "cell_type": "markdown",
   "metadata": {},
   "source": [
    "#### Orderddict: can be used when you want to get the keys in a specific order"
   ]
  },
  {
   "cell_type": "code",
   "execution_count": 37,
   "metadata": {},
   "outputs": [
    {
     "data": {
      "text/plain": [
       "['orange', 'blue']"
      ]
     },
     "execution_count": 37,
     "metadata": {},
     "output_type": "execute_result"
    }
   ],
   "source": [
    "from collections import OrderedDict\n",
    "colors = OrderedDict()\n",
    "colors[\"orange\"] = \"ORANGE\"\n",
    "colors[\"blue\"] = \"BLUE\"\n",
    "[k for k, v in colors.items()]"
   ]
  },
  {
   "cell_type": "markdown",
   "metadata": {},
   "source": [
    "#### Switch Statement using Dictionary:"
   ]
  },
  {
   "cell_type": "code",
   "execution_count": 44,
   "metadata": {},
   "outputs": [
    {
     "data": {
      "text/plain": [
       "2400000.0"
      ]
     },
     "execution_count": 44,
     "metadata": {},
     "output_type": "execute_result"
    }
   ],
   "source": [
    "def zambia(amount):\n",
    "    calculate_tax = amount*0.3\n",
    "    return calculate_tax\n",
    "def eritrea(amount):\n",
    "    calculate_tax = amount*0.1\n",
    "    return calculate_tax\n",
    "contry_tax_calculate = {\"zambia\": zambia,\"eritrea\": eritrea}\n",
    "def calculate_tax(country_name, amount):\n",
    "    return contry_tax_calculate[country_name](amount)\n",
    "calculate_tax(\"zambia\", 8000000)"
   ]
  },
  {
   "cell_type": "markdown",
   "metadata": {},
   "source": [
    "#### Merging dictionary"
   ]
  },
  {
   "cell_type": "code",
   "execution_count": 46,
   "metadata": {},
   "outputs": [
    {
     "data": {
      "text/plain": [
       "{'Lisa': 238900,\n",
       " 'Ganesh': 8765000,\n",
       " 'John': 3450000,\n",
       " 'Albert': 3456000,\n",
       " 'Arya': 987600}"
      ]
     },
     "execution_count": 46,
     "metadata": {},
     "output_type": "execute_result"
    }
   ],
   "source": [
    "salary_first = {\"Lisa\": 238900, \"Ganesh\": 8765000, \"John\":3450000}\n",
    "salary_second = {\"Albert\": 3456000, \"Arya\": 987600}\n",
    "{**salary_first, **salary_second}"
   ]
  },
  {
   "cell_type": "markdown",
   "metadata": {},
   "source": [
    "#### Breaking functions with yield:"
   ]
  },
  {
   "cell_type": "code",
   "execution_count": 47,
   "metadata": {},
   "outputs": [],
   "source": [
    "def get_unique_emails(file_name):\n",
    "    emails = set()\n",
    "    for line in read_file(file_name):\n",
    "        match = re.findall(r'[\\w\\.-]+@[\\w\\.-]+', line)\n",
    "        for email in match:\n",
    "            emails.add(email)\n",
    "    return emails\n",
    "\n",
    "def read_file(file_name):\n",
    "    with open(file_name) as fread:\n",
    "        for line in fread:\n",
    "            yield line"
   ]
  },
  {
   "cell_type": "markdown",
   "metadata": {},
   "source": [
    "#### Logging"
   ]
  },
  {
   "cell_type": "code",
   "execution_count": 77,
   "metadata": {},
   "outputs": [],
   "source": [
    "import logging\n",
    "\n",
    "logging.basicConfig(filename='app.log', filemode='w', format='%(name)s - %(levelname)s - %(message)s')\n",
    "name = 'John'\n",
    "\n",
    "if name == 'John':\n",
    "    logging.error('{} raised an error'.format(name))\n",
    "else:\n",
    "    print('good one!')"
   ]
  },
  {
   "cell_type": "code",
   "execution_count": 78,
   "metadata": {},
   "outputs": [],
   "source": [
    "a = 5\n",
    "b = 0\n",
    "try:\n",
    "  c = a / b\n",
    "except Exception as e:\n",
    "  logging.error(\"Exception occurred\", exc_info=True)"
   ]
  },
  {
   "cell_type": "code",
   "execution_count": 80,
   "metadata": {},
   "outputs": [
    {
     "name": "stderr",
     "output_type": "stream",
     "text": [
      "__main__ - WARNING - This is a warning\n",
      "__main__ - ERROR - This is an error\n"
     ]
    }
   ],
   "source": [
    "import logging\n",
    "\n",
    "# Create a custom logger\n",
    "logger = logging.getLogger(__name__)\n",
    "\n",
    "# Create handlers\n",
    "c_handler = logging.StreamHandler()\n",
    "f_handler = logging.FileHandler('file.log') #send the log messages to configured destinations\n",
    "c_handler.setLevel(logging.WARNING)\n",
    "f_handler.setLevel(logging.ERROR)\n",
    "\n",
    "# Create formatters and add it to handlers\n",
    "c_format = logging.Formatter('%(name)s - %(levelname)s - %(message)s')\n",
    "f_format = logging.Formatter('%(asctime)s - %(name)s - %(levelname)s - %(message)s')\n",
    "c_handler.setFormatter(c_format)\n",
    "f_handler.setFormatter(f_format)\n",
    "\n",
    "# Add handlers to the logger\n",
    "logger.addHandler(c_handler)\n",
    "logger.addHandler(f_handler)\n",
    "\n",
    "logger.warning('This is a warning')\n",
    "logger.error('This is an error')"
   ]
  },
  {
   "cell_type": "markdown",
   "metadata": {},
   "source": [
    "#### Lambda Expression"
   ]
  },
  {
   "cell_type": "code",
   "execution_count": 85,
   "metadata": {},
   "outputs": [],
   "source": [
    "numbers = [9,5,6,8]\n",
    "sorted_numbers = sorted(numbers, key=lambda num: abs(num))"
   ]
  },
  {
   "cell_type": "markdown",
   "metadata": {},
   "source": [
    "#### Classes"
   ]
  },
  {
   "cell_type": "code",
   "execution_count": 165,
   "metadata": {},
   "outputs": [],
   "source": [
    "class Dog:\n",
    "    # Class Attribute\n",
    "    species = 'mammal'\n",
    "    HOMES = ['Kyiv', 'Paris']\n",
    "    \n",
    "    \n",
    "    def __init__(self, name, age):\n",
    "        self.name = name\n",
    "        self.age = age\n",
    "    \n",
    "    def __str__(self): #built-in Python special methods\n",
    "        return (\"Name \" + self.name)\n",
    "    \n",
    "    @classmethod #take a cls parameter that points to the class—and not the object instance\n",
    "    def classmethod(cls, home):\n",
    "        cls.HOMES.append(home)\n",
    "        return cls.HOMES\n",
    "    \n",
    "    @staticmethod #can neither modify object state nor class state\n",
    "    def staticmethod(home):\n",
    "        return \"good\""
   ]
  },
  {
   "cell_type": "code",
   "execution_count": 166,
   "metadata": {},
   "outputs": [],
   "source": [
    "dog = Dog(\"Peter\", 10)"
   ]
  },
  {
   "cell_type": "code",
   "execution_count": 167,
   "metadata": {},
   "outputs": [
    {
     "data": {
      "text/plain": [
       "['Kyiv', 'Paris', 'London']"
      ]
     },
     "execution_count": 167,
     "metadata": {},
     "output_type": "execute_result"
    }
   ],
   "source": [
    "dog.classmethod('London')"
   ]
  },
  {
   "cell_type": "code",
   "execution_count": null,
   "metadata": {},
   "outputs": [],
   "source": []
  }
 ],
 "metadata": {
  "kernelspec": {
   "display_name": "Python 3",
   "language": "python",
   "name": "python3"
  },
  "language_info": {
   "codemirror_mode": {
    "name": "ipython",
    "version": 3
   },
   "file_extension": ".py",
   "mimetype": "text/x-python",
   "name": "python",
   "nbconvert_exporter": "python",
   "pygments_lexer": "ipython3",
   "version": "3.6.5"
  }
 },
 "nbformat": 4,
 "nbformat_minor": 2
}
